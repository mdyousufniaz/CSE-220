{
 "cells": [
  {
   "cell_type": "code",
   "execution_count": 1,
   "metadata": {},
   "outputs": [],
   "source": [
    "import numpy as np\n",
    "\n",
    "# numpy basics"
   ]
  },
  {
   "cell_type": "code",
   "execution_count": 5,
   "metadata": {},
   "outputs": [
    {
     "name": "stdout",
     "output_type": "stream",
     "text": [
      "[1 2 3 4 5]\n",
      "[[1 2 3 4]\n",
      " [5 6 7 8]]\n",
      "2 (2, 4) 8 int64\n"
     ]
    }
   ],
   "source": [
    "# numpy array\n",
    "\n",
    "a = np.array([1, 2, 3, 4, 5])\n",
    "print(a)\n",
    "\n",
    "# higher dimentinal array\n",
    "a = np.array([\n",
    "    [1, 2, 3, 4],\n",
    "    [5, 6, 7, 8]\n",
    "])\n",
    "print(a)\n",
    "print(a.ndim, a.shape, a.size, a.dtype)"
   ]
  },
  {
   "cell_type": "code",
   "execution_count": 6,
   "metadata": {},
   "outputs": [
    {
     "name": "stdout",
     "output_type": "stream",
     "text": [
      "[[0. 0. 0. 0.]\n",
      " [0. 0. 0. 0.]\n",
      " [0. 0. 0. 0.]]\n",
      "\n",
      "[[1. 1.]\n",
      " [1. 1.]\n",
      " [1. 1.]]\n",
      "\n",
      "[[0.00000000e+000 6.95302821e-310]\n",
      " [4.94065646e-324             nan]]\n",
      "\n",
      "[1 3 5 7 9]\n",
      "\n",
      "[0.   0.25 0.5  0.75 1.  ]\n",
      "\n",
      "[[0.82302228 0.97178625 0.38537396]\n",
      " [0.57957674 0.93103725 0.30948627]]\n"
     ]
    }
   ],
   "source": [
    "# array inializar\n",
    "\n",
    "print(\n",
    "    np.zeros((3, 4)),\n",
    "    np.ones((3, 2)),\n",
    "    np.empty((2, 2)),\n",
    "    np.arange(1, 10, 2),\n",
    "    np.linspace(0, 1, 5),\n",
    "    np.random.random((2, 3)),\n",
    "    sep=\"\\n\\n\"\n",
    ")"
   ]
  },
  {
   "cell_type": "code",
   "execution_count": 10,
   "metadata": {},
   "outputs": [
    {
     "name": "stdout",
     "output_type": "stream",
     "text": [
      "[ 1  3  8  8  8  9 10 10 11 12]\n"
     ]
    },
    {
     "data": {
      "text/plain": [
       "array([ 1,  3,  8,  8,  8,  9, 10, 10, 11, 12], dtype=int32)"
      ]
     },
     "execution_count": 10,
     "metadata": {},
     "output_type": "execute_result"
    }
   ],
   "source": [
    "# sorting\n",
    "a = np.random.randint(1, 21, 10)\n",
    "print(np.sort(a)) # sorted copy\n",
    "a.sort() # inplace sort\n",
    "a"
   ]
  },
  {
   "cell_type": "code",
   "execution_count": 13,
   "metadata": {},
   "outputs": [
    {
     "name": "stdout",
     "output_type": "stream",
     "text": [
      "[ 1  2  3  4  1  2  3  4  5  6  7  8  9 10 11 12]\n"
     ]
    }
   ],
   "source": [
    "\"\"\"\n",
    "    # concatenation\n",
    "    arrays must be same size\n",
    "\"\"\"\n",
    "\n",
    "print(\n",
    "    np.concatenate((\n",
    "        np.arange(1, 5),\n",
    "        np.arange(1, 13)\n",
    "    ))\n",
    ")"
   ]
  },
  {
   "cell_type": "code",
   "execution_count": 14,
   "metadata": {},
   "outputs": [
    {
     "name": "stdout",
     "output_type": "stream",
     "text": [
      "[[ 1  2  3  4  5]\n",
      " [ 6  7  8  9 10]\n",
      " [11 12 13 14 15]\n",
      " [16 17 18 19 20]\n",
      " [21 22 23 24 25]]\n"
     ]
    }
   ],
   "source": [
    "# reshape\n",
    "print(\n",
    "    np.arange(1, 26).reshape((5, 5))\n",
    ")"
   ]
  },
  {
   "cell_type": "code",
   "execution_count": 17,
   "metadata": {},
   "outputs": [
    {
     "name": "stdout",
     "output_type": "stream",
     "text": [
      "original Array: \n",
      "\n",
      "[[ 1  2  3  4  5]\n",
      " [ 6  7  8  9 10]\n",
      " [11 12 13 14 15]\n",
      " [16 17 18 19 20]]\n",
      "\n",
      "transposed array: \n",
      "\n",
      "[[ 1  6 11 16]\n",
      " [ 2  7 12 17]\n",
      " [ 3  8 13 18]\n",
      " [ 4  9 14 19]\n",
      " [ 5 10 15 20]]\n"
     ]
    }
   ],
   "source": [
    "# transpose\n",
    "\n",
    "a = np.arange(1, 21).reshape((4, 5))\n",
    "print(\n",
    "    \"original Array: \",\n",
    "    a,\n",
    "    \"transposed array: \",\n",
    "    a.T, # also can be written as a.transpose()\n",
    "    sep=\"\\n\\n\"\n",
    ")"
   ]
  },
  {
   "cell_type": "code",
   "execution_count": 19,
   "metadata": {},
   "outputs": [
    {
     "name": "stdout",
     "output_type": "stream",
     "text": [
      "[1 2 3 4]\n",
      "\n",
      "[ 2  4  6  8 10 12]\n",
      "\n",
      "[3 4]\n"
     ]
    }
   ],
   "source": [
    "# selection\n",
    "\n",
    "a = np.array((\n",
    "    [\n",
    "        np.arange(i, i + 4)\n",
    "        for i in range(1, 10, 4)       \n",
    "    ]\n",
    "))\n",
    "\n",
    "print(\n",
    "    a[a < 5], # elements less than 5\n",
    "    a[a % 2 == 0], # divisible by 2\n",
    "    a[(a > 2) & (a < 5)], # 2 < a <= 5\n",
    "    sep=\"\\n\\n\"\n",
    ")"
   ]
  },
  {
   "cell_type": "code",
   "execution_count": 22,
   "metadata": {},
   "outputs": [
    {
     "name": "stdout",
     "output_type": "stream",
     "text": [
      "vstack:\n",
      "\n",
      "[[1 2]\n",
      " [3 4]\n",
      " [5 6]\n",
      " [7 8]]\n",
      "\n",
      "hstack:\n",
      "\n",
      "[[5 6 1 2]\n",
      " [7 8 3 4]]\n"
     ]
    }
   ],
   "source": [
    "# stacking\n",
    "\n",
    "a1 = np.arange(1, 5).reshape((2, 2))\n",
    "\n",
    "a2 = np.arange(5, 9).reshape((2, 2))\n",
    "\n",
    "print(\n",
    "    \"vstack:\",\n",
    "    np.vstack((a1, a2)),\n",
    "    \"hstack:\",\n",
    "    np.hstack((a2, a1)),\n",
    "    sep=\"\\n\\n\"\n",
    ")"
   ]
  },
  {
   "cell_type": "code",
   "execution_count": 27,
   "metadata": {},
   "outputs": [
    {
     "name": "stdout",
     "output_type": "stream",
     "text": [
      "[array([[ 1,  2,  3,  4,  5,  6,  7,  8,  9, 10, 11, 12]]), array([[13, 14, 15, 16, 17, 18, 19, 20, 21, 22, 23, 24]])]\n",
      "\n",
      "[array([[ 1,  2],\n",
      "       [13, 14]]), array([[ 3,  4],\n",
      "       [15, 16]]), array([[ 5,  6],\n",
      "       [17, 18]]), array([[ 7,  8],\n",
      "       [19, 20]]), array([[ 9, 10],\n",
      "       [21, 22]]), array([[11, 12],\n",
      "       [23, 24]])]\n"
     ]
    }
   ],
   "source": [
    "# split\n",
    "\n",
    "x = np.arange(1, 25).reshape(2, 12)\n",
    "print(\n",
    "    np.vsplit(x, 2),\n",
    "    np.hsplit(x, 6),\n",
    "    sep=\"\\n\\n\"\n",
    ")\n"
   ]
  },
  {
   "cell_type": "code",
   "execution_count": 29,
   "metadata": {},
   "outputs": [
    {
     "data": {
      "text/plain": [
       "array([[2., 3.]])"
      ]
     },
     "execution_count": 29,
     "metadata": {},
     "output_type": "execute_result"
    }
   ],
   "source": [
    "# array operations\n",
    "\n",
    "data = np.array((1, 2))\n",
    "ones = np.ones((1, 2))\n",
    "data + ones"
   ]
  },
  {
   "cell_type": "code",
   "execution_count": 35,
   "metadata": {},
   "outputs": [
    {
     "name": "stdout",
     "output_type": "stream",
     "text": [
      "[1.6 3.2]\n"
     ]
    },
    {
     "data": {
      "text/plain": [
       "array([[2, 3],\n",
       "       [4, 5],\n",
       "       [6, 7]])"
      ]
     },
     "execution_count": 35,
     "metadata": {},
     "output_type": "execute_result"
    }
   ],
   "source": [
    "# broadcasting\n",
    "\n",
    "data = np.array([1, 2])\n",
    "\n",
    "print(data * 1.6)\n",
    "\n",
    "# one row/column broadcasting\n",
    "\n",
    "data = np.array(([1, 2], [3, 4], [5, 6]))\n",
    "ones_col = np.ones((3, 1), dtype=np.int8)\n",
    "\n",
    "data + ones_col"
   ]
  },
  {
   "cell_type": "code",
   "execution_count": 33,
   "metadata": {},
   "outputs": [
    {
     "name": "stdout",
     "output_type": "stream",
     "text": [
      "3\n",
      "\n",
      "1\n",
      "\n",
      "6\n",
      "\n",
      "2.0\n",
      "\n",
      "6\n",
      "\n",
      "0.816496580927726\n",
      "[1 2] [1 3 5]\n"
     ]
    }
   ],
   "source": [
    "# aggregation operations\n",
    "\n",
    "# 1D array\n",
    "data = np.arange(1, 4)\n",
    "print(\n",
    "    data.max(),\n",
    "    data.min(),\n",
    "    data.sum(),\n",
    "    data.mean(),\n",
    "    data.prod(),\n",
    "    data.std(),\n",
    "    sep=\"\\n\\n\"\n",
    ")\n",
    "\n",
    "# 2D array\n",
    "\n",
    "data = np.arange(1, 7).reshape(3, 2)\n",
    "print(\n",
    "    data.min(axis=0),\n",
    "    data.min(axis=1)\n",
    ")"
   ]
  },
  {
   "cell_type": "code",
   "execution_count": 63,
   "metadata": {},
   "outputs": [
    {
     "name": "stdout",
     "output_type": "stream",
     "text": [
      "[1 2 3 4]\n",
      "[2 4 2 2]\n"
     ]
    }
   ],
   "source": [
    "# unique\n",
    "\n",
    "a = np.random.randint(1, 5, 10)\n",
    "unique_values, occurrence_count = np.unique(a, return_counts=True)\n",
    "\n",
    "print(\n",
    "    unique_values,\n",
    "    occurrence_count,\n",
    "    sep=\"\\n\"\n",
    ")"
   ]
  },
  {
   "cell_type": "code",
   "execution_count": 78,
   "metadata": {},
   "outputs": [
    {
     "name": "stdout",
     "output_type": "stream",
     "text": [
      "Mean Squared Error: 0.28\n",
      "1.0\n",
      "\n",
      "[ 0.          3.16227766  4.47213595  5.47722558  6.32455532  7.07106781\n",
      "  7.74596669  8.36660027  8.94427191  9.48683298 10.        ]\n",
      "\n",
      "[ 1  4  9 16 25]\n",
      "\n",
      "1.0\n",
      "0.11889164797957748\n",
      "[0.24243297 0.65900114 0.09856589]\n"
     ]
    }
   ],
   "source": [
    "# mathematical formulas\n",
    "\n",
    "# MSE example\n",
    "n = 5\n",
    "predictions = np.array([2.5, 0.0, 2.1, 7.8, 5.5])\n",
    "labels = np.array([3.0, -0.5, 2.0, 7.0, 5.0])\n",
    "\n",
    "mse = (1 / n) * np.sum(np.square(predictions -  labels))\n",
    "print(f\"Mean Squared Error: {mse:.02}\")\n",
    "\n",
    "# some other functions\n",
    "print(\n",
    "    np.log(np.e), # e based log system\n",
    "    np.sqrt(np.arange(0, 101, 10)),\n",
    "    np.power(np.arange(1, 6), 2),\n",
    "    np.sin(np.pi / 2),\n",
    "    sep=\"\\n\\n\"\n",
    ")\n",
    "\n",
    "# cross-entropy loss\n",
    "\n",
    "m = 3\n",
    "y_actual = np.concatenate(\n",
    "    (np.ones(1), np.zeros(2))\n",
    ")\n",
    "y_pred = np.array((.7, .2, .1))\n",
    "\n",
    "cross_entropy_loss = -1 / m * np.sum(y_actual * np.log(y_pred))\n",
    "print(cross_entropy_loss)\n",
    "\n",
    "# softmax function\n",
    "x = np.array([1, 2, .1])\n",
    "\n",
    "softmax = np.exp(x) / np.sum(np.exp(x))\n",
    "print(softmax)"
   ]
  }
 ],
 "metadata": {
  "kernelspec": {
   "display_name": ".venv",
   "language": "python",
   "name": "python3"
  },
  "language_info": {
   "codemirror_mode": {
    "name": "ipython",
    "version": 3
   },
   "file_extension": ".py",
   "mimetype": "text/x-python",
   "name": "python",
   "nbconvert_exporter": "python",
   "pygments_lexer": "ipython3",
   "version": "3.12.5"
  }
 },
 "nbformat": 4,
 "nbformat_minor": 2
}
