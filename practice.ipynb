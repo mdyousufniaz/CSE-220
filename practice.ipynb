{
 "cells": [
  {
   "cell_type": "code",
   "execution_count": 18,
   "metadata": {},
   "outputs": [
    {
     "name": "stdout",
     "output_type": "stream",
     "text": [
      "[5 6 7 8 9]\n"
     ]
    }
   ],
   "source": [
    "# numpy examples\n",
    "import numpy as np\n",
    "\n",
    "a = np.array([1, 2, 3, 4, 5])\n",
    "a[1] = 6\n",
    "\n",
    "b = a[:3]\n",
    "\n",
    "b[0] = 7\n",
    "\n",
    "a\n",
    "\n",
    "c = np.array([\n",
    "    [1, 2, 3, 4],\n",
    "    [5, 6, 7, 8],\n",
    "    [9, 10, 11, 12]\n",
    "])\n",
    "\n",
    "c.ndim\n",
    "c.shape\n",
    "c.dtype\n",
    "c.size\n",
    "\n",
    "# other np methods\n",
    "np.zeros((2, 2))\n",
    "np.ones((2, 3))\n",
    "np.random.random((3, 4))\n",
    "np.empty(10)\n",
    "np.arange(1, 10)\n",
    "np.linspace(0, 1, 5)\n",
    "\n",
    "# sorting\n",
    "a = np.random.random(10)\n",
    "# a.sort()\n",
    "np.sort(a)\n",
    "\n",
    "b = np.arange(1, 5, dtype=np.int32)\n",
    "c = np.arange(5, 10, dtype=np.int32)\n",
    "\n",
    "np.concatenate((c, b))\n",
    "# print(c)\n"
   ]
  },
  {
   "cell_type": "code",
   "execution_count": 24,
   "metadata": {},
   "outputs": [
    {
     "data": {
      "text/plain": [
       "array([[1, 3, 5],\n",
       "       [2, 4, 6]], dtype=int8)"
      ]
     },
     "execution_count": 24,
     "metadata": {},
     "output_type": "execute_result"
    }
   ],
   "source": [
    "# reshape \n",
    "data = np.arange(1, 7, dtype=np.int8)\n",
    "# data\n",
    "data = data.reshape((3, 2))\n",
    "\n",
    "# tanspose\n",
    "# data.T\n",
    "data.transpose()\n"
   ]
  }
 ],
 "metadata": {
  "kernelspec": {
   "display_name": ".venv",
   "language": "python",
   "name": "python3"
  },
  "language_info": {
   "codemirror_mode": {
    "name": "ipython",
    "version": 3
   },
   "file_extension": ".py",
   "mimetype": "text/x-python",
   "name": "python",
   "nbconvert_exporter": "python",
   "pygments_lexer": "ipython3",
   "version": "3.12.1"
  }
 },
 "nbformat": 4,
 "nbformat_minor": 2
}
